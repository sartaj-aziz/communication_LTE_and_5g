{
  "nbformat": 4,
  "nbformat_minor": 0,
  "metadata": {
    "colab": {
      "provenance": []
    },
    "kernelspec": {
      "name": "python3",
      "display_name": "Python 3"
    },
    "language_info": {
      "name": "python"
    }
  },
  "cells": [
    {
      "cell_type": "markdown",
      "source": [
        "### Channel Estimation with Convolutional Neural Network"
      ],
      "metadata": {
        "id": "sh6gdse1eJvS"
      }
    },
    {
      "cell_type": "markdown",
      "source": [
        "### connecting google drive to colab"
      ],
      "metadata": {
        "id": "ZSLNdnxeODVk"
      }
    },
    {
      "cell_type": "code",
      "execution_count": 2,
      "metadata": {
        "colab": {
          "base_uri": "https://localhost:8080/",
          "height": 0
        },
        "id": "LU-ymEFXCdGA",
        "outputId": "4d409c21-9144-48c5-8d86-05008d746a1c"
      },
      "outputs": [
        {
          "output_type": "stream",
          "name": "stdout",
          "text": [
            "Drive already mounted at /content/drive; to attempt to forcibly remount, call drive.mount(\"/content/drive\", force_remount=True).\n"
          ]
        }
      ],
      "source": [
        "from google.colab import drive\n",
        "drive.mount('/content/drive')"
      ]
    },
    {
      "cell_type": "markdown",
      "source": [
        "### scipy is used for loading .mat format dataset"
      ],
      "metadata": {
        "id": "Vh5oT9IWkU4V"
      }
    },
    {
      "cell_type": "code",
      "source": [
        "import scipy.io"
      ],
      "metadata": {
        "id": "xWaE5R-oJ8nm"
      },
      "execution_count": 3,
      "outputs": []
    },
    {
      "cell_type": "code",
      "source": [
        "perfect=scipy.io.loadmat('/content/drive/MyDrive/deep_mimo_dataset/Perfect_H_40000.mat')['My_perfect_H']"
      ],
      "metadata": {
        "id": "kUEZwxvkKA1P"
      },
      "execution_count": 4,
      "outputs": []
    },
    {
      "cell_type": "code",
      "source": [
        "noisy_input_12=scipy.io.loadmat('/content/drive/MyDrive/deep_mimo_dataset/My_noisy_H_12.mat')"
      ],
      "metadata": {
        "id": "kZSa9T7nPbr4"
      },
      "execution_count": 5,
      "outputs": []
    },
    {
      "cell_type": "code",
      "source": [
        "noisy_input=scipy.io.loadmat('/content/drive/MyDrive/deep_mimo_dataset/My_noisy_H_22.mat')['My_noisy_H']"
      ],
      "metadata": {
        "id": "xcAlA6uyRC34"
      },
      "execution_count": 6,
      "outputs": []
    },
    {
      "cell_type": "markdown",
      "source": [
        "### printing 4d dataset"
      ],
      "metadata": {
        "id": "9A3Uz4Kzkef8"
      }
    },
    {
      "cell_type": "code",
      "source": [
        "print(noisy_input)"
      ],
      "metadata": {
        "colab": {
          "base_uri": "https://localhost:8080/",
          "height": 0
        },
        "id": "v82OnqqYTTr1",
        "outputId": "4e9f1290-4759-4d2f-893d-fb357447aaa4"
      },
      "execution_count": 7,
      "outputs": [
        {
          "output_type": "stream",
          "name": "stdout",
          "text": [
            "[[[ 0.11346515+1.78369765e-01j  0.12842974+1.93799422e-01j\n",
            "    0.10442415+1.11861634e-01j ...  0.01204982+8.60761496e-02j\n",
            "   -0.05617651-5.52056095e-02j -0.05896273-2.43147194e-02j]\n",
            "  [ 0.14678281+2.79888491e-01j  0.14603456+1.86929540e-01j\n",
            "    0.21363323-5.03918705e-02j ... -0.03231674-1.67187478e-02j\n",
            "   -0.00437249-2.67441413e-02j -0.0443623 -9.01486361e-02j]\n",
            "  [ 0.13405688+1.92492931e-01j  0.15259018+2.52159722e-01j\n",
            "    0.08010592+1.26060263e-01j ... -0.01841545-1.23733221e-02j\n",
            "   -0.10515809+8.16199416e-02j -0.01606184-1.02421556e-01j]\n",
            "  ...\n",
            "  [-0.27850168+1.00207728e+00j -0.2195267 +9.78058208e-01j\n",
            "   -0.30801927+9.58224730e-01j ... -0.56137782+7.59049723e-01j\n",
            "   -0.57698416+5.52059521e-01j -0.68552004+5.32755628e-01j]\n",
            "  [-0.12879531+1.16106470e+00j -0.30296394+1.06230184e+00j\n",
            "   -0.28960861+9.73067927e-01j ... -0.58373902+6.30708142e-01j\n",
            "   -0.61913178+5.99864725e-01j -0.64946205+5.78328197e-01j]\n",
            "  [-0.17285247+1.12343024e+00j -0.22100633+1.20303412e+00j\n",
            "   -0.224948  +9.54911956e-01j ... -0.49818177+6.67194053e-01j\n",
            "   -0.47643387+7.30007064e-01j -0.52485565+6.17371273e-01j]]\n",
            "\n",
            " [[-0.0271893 +5.16320195e-01j -0.0301588 +5.05528682e-01j\n",
            "   -0.02221897+6.22357862e-01j ...  0.04357525+4.13697868e-01j\n",
            "    0.146255  +5.05272912e-01j  0.10777394+5.04363800e-01j]\n",
            "  [-0.00333475+5.42131350e-01j  0.05278165+4.91909776e-01j\n",
            "   -0.16746594+1.00406403e-01j ...  0.05677026+4.28695402e-01j\n",
            "    0.03510687+2.83846693e-01j  0.16819444+4.38219938e-01j]\n",
            "  [ 0.16814937+6.93149171e-01j  0.04784953+4.82392180e-01j\n",
            "    0.05959023+5.02023942e-01j ...  0.19949569+4.07666813e-01j\n",
            "    0.08423859+4.03733152e-01j  0.17054574+4.09923078e-01j]\n",
            "  ...\n",
            "  [-1.33336896+1.53883671e-01j -1.34500967+2.19219606e-01j\n",
            "   -1.25861135+7.85653880e-02j ... -1.26798107+5.41173618e-01j\n",
            "   -0.94797407+8.91098832e-01j -1.23268808+6.09551701e-01j]\n",
            "  [-1.38235532+1.73612575e-01j -1.53211292+4.74974229e-01j\n",
            "   -1.34697055+2.09408526e-01j ... -1.24985652+6.68271185e-01j\n",
            "   -1.14699758+5.92829811e-01j -1.66348655+5.26897914e-01j]\n",
            "  [-1.50748832+3.79066892e-01j -1.39898183+4.00798504e-01j\n",
            "   -1.33035767+4.12185289e-01j ... -1.28518701+6.15443335e-01j\n",
            "   -1.23443381+6.77455558e-01j -1.33130635+6.17061372e-01j]]\n",
            "\n",
            " [[-1.03555287-9.64073090e-01j -1.04600611-5.11045516e-01j\n",
            "   -1.02678122-6.85082873e-01j ... -0.83084699-7.74960376e-01j\n",
            "   -0.76884584-8.64772700e-01j -0.803708  -7.84878979e-01j]\n",
            "  [-1.05682638-6.36401223e-01j -1.12544796-6.54044791e-01j\n",
            "   -1.01373033-6.34405491e-01j ... -0.95289032-7.68029878e-01j\n",
            "   -0.82243324-7.77186150e-01j -0.71914155-8.71906473e-01j]\n",
            "  [-1.12931732-5.49958101e-01j -1.10788003-6.29115893e-01j\n",
            "   -1.0113463 -6.25144647e-01j ... -0.89517101-7.98832057e-01j\n",
            "   -0.82065073-7.02288234e-01j -0.77403976-6.70848522e-01j]\n",
            "  ...\n",
            "  [-0.04706872-3.81327372e-01j  0.05237037-2.87699376e-01j\n",
            "   -0.01389074-4.36236304e-01j ... -0.00877142-4.66313566e-01j\n",
            "    0.16028604-5.33632964e-01j -0.05810588-3.89917693e-01j]\n",
            "  [ 0.06889981-3.61265653e-01j -0.1488422 -3.36158043e-01j\n",
            "   -0.03928359-4.90586489e-01j ...  0.06043098-4.18552151e-01j\n",
            "   -0.02142623-6.17076502e-01j  0.01734522-4.53124090e-01j]\n",
            "  [ 0.09564098-2.55714617e-01j  0.03884842-3.69763070e-01j\n",
            "   -0.07644148-4.16476769e-01j ...  0.00618476-3.72341355e-01j\n",
            "    0.07497599-4.09801777e-01j -0.02809478-4.39802982e-01j]]\n",
            "\n",
            " ...\n",
            "\n",
            " [[ 1.02132679+1.01286800e-01j  1.10224171+1.67980586e-01j\n",
            "    0.99561318+3.58372810e-02j ...  0.92816214-9.95284250e-02j\n",
            "    1.1064258 -1.13243992e-01j  0.9024864 -1.62473441e-01j]\n",
            "  [ 1.13060369-1.19489595e-03j  1.1401011 +4.65358699e-02j\n",
            "    1.07186152+1.10088193e-01j ...  1.05188871-4.47333581e-02j\n",
            "    0.95747953-1.09035349e-01j  1.09651831-1.56734115e-01j]\n",
            "  [ 1.10830219+4.19909706e-02j  0.79395806-2.93210264e-01j\n",
            "    1.14304065+1.06510299e-01j ...  1.07762608-1.82522407e-01j\n",
            "    1.12660505-5.05285681e-02j  0.84349598-1.53451903e-01j]\n",
            "  ...\n",
            "  [-0.70012942-1.46755433e-01j -0.6146212 -9.44152999e-02j\n",
            "   -0.67641603-2.69984765e-01j ... -0.30678821-5.76327208e-01j\n",
            "   -0.30018748-5.42978439e-01j -0.32609666-4.94672363e-01j]\n",
            "  [-0.71655541-1.95443122e-01j -0.64941085-1.16564379e-01j\n",
            "   -0.64626815-1.77366784e-01j ... -0.39565208-4.23485173e-01j\n",
            "   -0.26665458-4.39902748e-01j -0.23206365-4.50201187e-01j]\n",
            "  [-0.50706081-8.92338940e-02j -0.61467663-8.65820570e-02j\n",
            "   -0.59676019-1.13358594e-01j ... -0.44541507-3.30735362e-01j\n",
            "   -0.42721212-3.83809731e-01j -0.37592741-4.59417557e-01j]]\n",
            "\n",
            " [[-0.14004922+4.61345471e-01j  0.32573554+9.30107651e-01j\n",
            "   -0.15826113+2.09708678e-02j ... -0.13700621+5.63759669e-01j\n",
            "   -0.09263291+4.33046665e-01j -0.01961988+4.95831443e-01j]\n",
            "  [-0.19982598+5.16662432e-01j -0.19285567+5.36562470e-01j\n",
            "   -0.10276754+5.15512326e-01j ...  0.06876007+3.30657166e-01j\n",
            "   -0.06599664+4.82325724e-01j -0.05797551+4.55125776e-01j]\n",
            "  [-0.29039589+5.16521490e-01j -0.15918111+6.14754359e-01j\n",
            "   -0.02539188+6.71287143e-01j ... -0.04379105+4.35020868e-01j\n",
            "   -0.05767956+4.45362651e-01j -0.01260015+4.20594365e-01j]\n",
            "  ...\n",
            "  [-0.24962855-1.83513282e-02j -0.33673442-7.94988180e-02j\n",
            "   -0.38029124-1.01281653e-01j ... -0.57159006-3.28569156e-01j\n",
            "   -0.45863977-3.75344632e-01j -0.5191333 -3.95802472e-01j]\n",
            "  [-0.41196669-1.08094051e-01j -0.297738  -1.38420052e-01j\n",
            "   -0.46247107-1.39473738e-01j ... -0.53242409-3.86954177e-01j\n",
            "   -0.50674938-4.14325352e-01j -0.49428558-3.89805180e-01j]\n",
            "  [-0.28484479-1.05126774e-01j -0.40028922-9.13542359e-02j\n",
            "   -0.41910856-1.29330713e-01j ... -0.51631784-3.67503494e-01j\n",
            "   -0.53759436-3.41012970e-01j -0.57088983-3.26748082e-01j]]\n",
            "\n",
            " [[-0.61895108-6.31382186e-01j -0.86706058+9.60978858e-02j\n",
            "   -0.78599806-5.15774324e-01j ... -0.77785034-8.90552425e-01j\n",
            "   -0.65685563-8.94721010e-01j -0.69000627-9.09671571e-01j]\n",
            "  [-0.66623448-6.28310884e-01j -0.62690616-7.27458072e-01j\n",
            "   -1.13476426-8.11401967e-01j ... -0.52367271-7.27113409e-01j\n",
            "   -0.81995363-8.56437098e-01j -0.77087482-9.11539630e-01j]\n",
            "  [-0.70204049-6.00362699e-01j -0.74001866-4.33594326e-01j\n",
            "   -0.89441936-5.59041376e-01j ... -0.80006067-8.17126925e-01j\n",
            "   -0.86294686-9.21828926e-01j -0.80328119-8.28528440e-01j]\n",
            "  ...\n",
            "  [ 0.31643377+8.76182514e-01j  0.24133343+8.90901573e-01j\n",
            "    0.23824236+9.44058020e-01j ... -0.88589148+1.04270378e+00j\n",
            "   -0.39922302+7.17836583e-01j -0.50966899+6.49076023e-01j]\n",
            "  [ 0.39460945+9.30481514e-01j  0.26819019+9.09804953e-01j\n",
            "    0.24150621+8.96675490e-01j ... -0.2935974 +7.06602087e-01j\n",
            "   -0.31016062+7.36728298e-01j -0.27185813+7.03621198e-01j]\n",
            "  [ 0.50215791+9.32097887e-01j  0.25586293+1.05456278e+00j\n",
            "    0.32230081+8.52526906e-01j ... -0.27151606+6.26577552e-01j\n",
            "   -0.3959989 +6.25924483e-01j -0.42986849+7.02159924e-01j]]]\n"
          ]
        }
      ]
    },
    {
      "cell_type": "markdown",
      "source": [
        "### logging information"
      ],
      "metadata": {
        "id": "zcyQH6BGkuVK"
      }
    },
    {
      "cell_type": "code",
      "source": [
        "import logging\n",
        "logging.basicConfig(level=logging.INFO,\n",
        "                    format='%(asctime)s | %(process)d | %(name)s | %(levelname)s:  %(message)s',\n",
        "                    datefmt='%d/%b/%Y - %H:%M:%S')\n",
        "\n",
        "logger = logging.getLogger(__name__)\n",
        "print(logger)\n"
      ],
      "metadata": {
        "colab": {
          "base_uri": "https://localhost:8080/",
          "height": 0
        },
        "id": "W5b9nN_svATq",
        "outputId": "7dbd67d3-54a8-477b-9c78-a269de4654a8"
      },
      "execution_count": 8,
      "outputs": [
        {
          "output_type": "stream",
          "name": "stdout",
          "text": [
            "<Logger __main__ (WARNING)>\n"
          ]
        }
      ]
    },
    {
      "cell_type": "markdown",
      "source": [
        "### Size and shape of the dataset"
      ],
      "metadata": {
        "id": "O3y8c10skytG"
      }
    },
    {
      "cell_type": "code",
      "source": [
        "print(noisy_input.shape)"
      ],
      "metadata": {
        "colab": {
          "base_uri": "https://localhost:8080/",
          "height": 0
        },
        "id": "nJoKjgVKUhE-",
        "outputId": "a3b47bb0-b2c3-4e07-f895-eca5f29b0820"
      },
      "execution_count": 9,
      "outputs": [
        {
          "output_type": "stream",
          "name": "stdout",
          "text": [
            "(40000, 72, 14)\n"
          ]
        }
      ]
    },
    {
      "cell_type": "code",
      "source": [
        "import numpy as np"
      ],
      "metadata": {
        "id": "DR3K6zZf7o6N"
      },
      "execution_count": 10,
      "outputs": []
    },
    {
      "cell_type": "markdown",
      "source": [
        "### Analysis of interpolation"
      ],
      "metadata": {
        "id": "xmSVNRJXk9ow"
      }
    },
    {
      "cell_type": "code",
      "source": [
        "idx = [14 * i for i in range(1, 72, 6)] + [4 + 14 * i for i in range(4, 72, 6)] + \\\n",
        "              [7 + 14 * i for i in range(1, 72, 6)] + [11 + 14 * i for i in range(4, 72, 6)]\n",
        "print(idx)"
      ],
      "metadata": {
        "colab": {
          "base_uri": "https://localhost:8080/",
          "height": 0
        },
        "id": "-nuerAzCaXtn",
        "outputId": "14cb10f3-a0fd-408f-fc5b-a185b5302990"
      },
      "execution_count": 11,
      "outputs": [
        {
          "output_type": "stream",
          "name": "stdout",
          "text": [
            "[14, 98, 182, 266, 350, 434, 518, 602, 686, 770, 854, 938, 60, 144, 228, 312, 396, 480, 564, 648, 732, 816, 900, 984, 21, 105, 189, 273, 357, 441, 525, 609, 693, 777, 861, 945, 67, 151, 235, 319, 403, 487, 571, 655, 739, 823, 907, 991]\n"
          ]
        }
      ]
    },
    {
      "cell_type": "code",
      "source": [
        "r=[x//14 for x in idx]\n",
        "c=[x%14 for x in idx]\n",
        "print(r)\n",
        "print(c)\n",
        "q=zip(r,c)\n",
        "print(set(q))"
      ],
      "metadata": {
        "colab": {
          "base_uri": "https://localhost:8080/",
          "height": 0
        },
        "id": "fb34AnqeldWi",
        "outputId": "cef0a0fb-6819-49c8-c5bb-3ba8237fc409"
      },
      "execution_count": 12,
      "outputs": [
        {
          "output_type": "stream",
          "name": "stdout",
          "text": [
            "[1, 7, 13, 19, 25, 31, 37, 43, 49, 55, 61, 67, 4, 10, 16, 22, 28, 34, 40, 46, 52, 58, 64, 70, 1, 7, 13, 19, 25, 31, 37, 43, 49, 55, 61, 67, 4, 10, 16, 22, 28, 34, 40, 46, 52, 58, 64, 70]\n",
            "[0, 0, 0, 0, 0, 0, 0, 0, 0, 0, 0, 0, 4, 4, 4, 4, 4, 4, 4, 4, 4, 4, 4, 4, 7, 7, 7, 7, 7, 7, 7, 7, 7, 7, 7, 7, 11, 11, 11, 11, 11, 11, 11, 11, 11, 11, 11, 11]\n",
            "{(34, 4), (64, 11), (37, 0), (67, 7), (58, 4), (22, 11), (61, 0), (19, 0), (43, 0), (1, 0), (25, 7), (16, 4), (46, 11), (49, 7), (40, 4), (7, 7), (64, 4), (31, 7), (67, 0), (22, 4), (55, 7), (70, 11), (28, 11), (4, 11), (52, 11), (25, 0), (10, 11), (46, 4), (49, 0), (13, 7), (7, 0), (31, 0), (55, 0), (70, 4), (34, 11), (37, 7), (28, 4), (4, 4), (58, 11), (61, 7), (52, 4), (19, 7), (10, 4), (13, 0), (43, 7), (1, 7), (40, 11), (16, 11)}\n"
          ]
        }
      ]
    },
    {
      "cell_type": "markdown",
      "source": [
        "###Import packages"
      ],
      "metadata": {
        "id": "rhATDNmAeP37"
      }
    },
    {
      "cell_type": "code",
      "source": [
        "import numpy as np\n",
        "import math\n",
        "from keras.models import Sequential,  Model\n",
        "from keras.layers import Convolution2D,Input,BatchNormalization,Conv2D,Activation,Lambda,Subtract,Conv2DTranspose, PReLU\n",
        "from keras.regularizers import l2\n",
        "from keras.layers import  Reshape,Dense,Flatten\n",
        "from keras.callbacks import ModelCheckpoint\n",
        "from keras.optimizers import SGD, Adam\n",
        "from scipy.io import loadmat\n",
        "import keras.backend as K\n",
        "from keras.callbacks import ModelCheckpoint\n",
        "from keras.optimizers import SGD, Adam\n",
        "import numpy as np\n",
        "import math\n",
        "from scipy import interpolate\n"
      ],
      "metadata": {
        "id": "q0y4H1XEeXPr"
      },
      "execution_count": 13,
      "outputs": []
    },
    {
      "cell_type": "markdown",
      "source": [
        "### calculating Peak signal to noise ratio"
      ],
      "metadata": {
        "id": "0Jr7i4q2lEdV"
      }
    },
    {
      "cell_type": "code",
      "source": [
        "def psnr(target, ref):\n",
        "    # assume RGB image\n",
        "    target_data = np.array(target, dtype=float)\n",
        "    ref_data = np.array(ref, dtype=float)\n",
        "\n",
        "    diff = ref_data - target_data\n",
        "    diff = diff.flatten('C')\n",
        "\n",
        "    rmse = math.sqrt(np.mean(diff ** 2.))\n",
        "\n",
        "    return 20 * math.log10(255. / rmse)"
      ],
      "metadata": {
        "id": "IoKn3QmXesK5"
      },
      "execution_count": 14,
      "outputs": []
    },
    {
      "cell_type": "markdown",
      "source": [
        "### Function of interpolation\n",
        "#### reference: LTE documatation for pilot symbol"
      ],
      "metadata": {
        "id": "PMuSvxT0lPiD"
      }
    },
    {
      "cell_type": "code",
      "source": [
        "def interpolation(noisy , SNR , Number_of_pilot , interp):\n",
        "    noisy_image = np.zeros((40000,72,14,2))\n",
        "\n",
        "    noisy_image[:,:,:,0] = np.real(noisy)\n",
        "    noisy_image[:,:,:,1] = np.imag(noisy)\n",
        "\n",
        "    idx=[]\n",
        "\n",
        "\n",
        "    if (Number_of_pilot == 48):\n",
        "        idx = [14*i for i in range(1, 72,6)]+[4+14*i for i in range(4, 72,6)]+[7+14*i for i in range(1, 72,6)]+[11+14*i for i in range(4, 72,6)]\n",
        "    elif (Number_of_pilot == 16):\n",
        "        idx= [4+14*i for i in range(1, 72,9)]+[9+14*i for i in range(4, 72,9)]\n",
        "    elif (Number_of_pilot == 24):\n",
        "        idx = [14*i for i in range(1,72,9)]+ [6+14*i for i in range(4,72,9)]+ [11+14*i for i in range(1,72,9)]\n",
        "    elif (Number_of_pilot == 8):\n",
        "      idx = [4+14*i for  i in range(5,72,18)]+[9+14*i for i in range(8,72,18)]\n",
        "    elif (Number_of_pilot == 36):\n",
        "      idx = [14*i for  i in range(1,72,6)]+[6+14*i for i in range(4,72,6)] + [11+14*i for i in range(1,72,6)]\n",
        "\n",
        "\n",
        "\n",
        "    r = [x//14 for x in idx]\n",
        "    c = [x%14 for x in idx]\n",
        "\n",
        "\n",
        "\n",
        "    interp_noisy = np.zeros((40000,72,14,2))\n",
        "\n",
        "    for i in range(len(noisy)):\n",
        "        z = [noisy_image[i,j,k,0] for j,k in zip(r,c)]\n",
        "        if(interp == 'rbf'):\n",
        "            f = interpolate.Rbf(np.array(r).astype(float), np.array(c).astype(float), z,function='gaussian')\n",
        "            X , Y = np.meshgrid(range(72),range(14))\n",
        "            z_intp = f(X, Y)\n",
        "            interp_noisy[i,:,:,0] = z_intp.T\n",
        "        elif(interp == 'spline'):\n",
        "            tck = interpolate.bisplrep(np.array(r).astype(float), np.array(c).astype(float), z)\n",
        "            z_intp = interpolate.bisplev(range(72),range(14),tck)\n",
        "            interp_noisy[i,:,:,0] = z_intp\n",
        "        z = [noisy_image[i,j,k,1] for j,k in zip(r,c)]\n",
        "        if(interp == 'rbf'):\n",
        "            f = interpolate.Rbf(np.array(r).astype(float), np.array(c).astype(float), z,function='gaussian')\n",
        "            X , Y = np.meshgrid(range(72),range(14))\n",
        "            z_intp = f(X, Y)\n",
        "            interp_noisy[i,:,:,1] = z_intp.T\n",
        "        elif(interp == 'spline'):\n",
        "            tck = interpolate.bisplrep(np.array(r).astype(float), np.array(c).astype(float), z)\n",
        "            z_intp = interpolate.bisplev(range(72),range(14),tck)\n",
        "            interp_noisy[i,:,:,1] = z_intp\n",
        "\n",
        "\n",
        "    interp_noisy = np.concatenate((interp_noisy[:,:,:,0], interp_noisy[:,:,:,1]), axis=0).reshape(80000, 72, 14, 1)\n",
        "\n",
        "\n",
        "    return interp_noisy"
      ],
      "metadata": {
        "id": "ClvFW_YyexaJ"
      },
      "execution_count": 15,
      "outputs": []
    },
    {
      "cell_type": "markdown",
      "source": [
        "### Super Resulation Convolution Neural Network (model architecture)"
      ],
      "metadata": {
        "id": "Y_9jtu6Dlsw7"
      }
    },
    {
      "cell_type": "code",
      "source": [
        "def SRCNN_model():\n",
        "\n",
        "    input_shape = (72,14,1)\n",
        "    x = Input(shape = input_shape)\n",
        "    c1 = Convolution2D( 64 , (9 , 9) , activation = 'relu', padding=\"same\", kernel_initializer=\"he_normal\")(x)\n",
        "    c2 = Convolution2D( 32 , (1 , 1 ), activation = 'relu', padding=\"same\", kernel_initializer=\"he_normal\")(c1)\n",
        "    c3 = Convolution2D( 1 , (5 , 5) , padding=\"same\", kernel_initializer=\"he_normal\")(c2)\n",
        "    #c4 = Input(shape = input_shape)(c3)\n",
        "    model = Model(inputs = x, outputs = c3)\n",
        "    ##compile\n",
        "    adam = Adam(lr=0.001, beta_1=0.9, beta_2=0.999, epsilon=1e-8)\n",
        "    model.compile(optimizer=adam, loss='mean_squared_error', metrics=['mean_squared_error'])\n",
        "    return model"
      ],
      "metadata": {
        "id": "3zcXA4NRe95R"
      },
      "execution_count": 16,
      "outputs": []
    },
    {
      "cell_type": "markdown",
      "source": [
        "### train model\n",
        "#### batch size: 128\n",
        "#### epochs: 20"
      ],
      "metadata": {
        "id": "1RDM80q7l4-O"
      }
    },
    {
      "cell_type": "code",
      "source": [
        "def SRCNN_train(train_data ,train_label, val_data , val_label , channel_model , num_pilots , SNR ):\n",
        "    srcnn_model = SRCNN_model()\n",
        "    print(srcnn_model.summary())\n",
        "\n",
        "    checkpoint = ModelCheckpoint(\"SRCNN_check.h5\", monitor='val_loss', verbose=1, save_best_only=True,\n",
        "                                 save_weights_only=False, mode='min')\n",
        "    callbacks_list = [checkpoint]\n",
        "\n",
        "    srcnn_model.fit(train_data, train_label, batch_size=128, validation_data=(val_data, val_label),\n",
        "                    callbacks=callbacks_list, shuffle=True, epochs= 20 , verbose=0)\n",
        "\n",
        "    #srcnn_model.save_weights(\"drive/codes/my_srcnn/SRCNN_SUI5_weights/SRCNN_48_12.h5\")\n",
        "    srcnn_model.save_weights(\"SRCNN_\" + channel_model +\"_\"+ str(num_pilots) + \"_\"  + str(SNR) + \".h5\")"
      ],
      "metadata": {
        "id": "_xNA8QwdfAlz"
      },
      "execution_count": 17,
      "outputs": []
    },
    {
      "cell_type": "markdown",
      "source": [
        "### Predict function for cnn model"
      ],
      "metadata": {
        "id": "vV4CBVTjmLcz"
      }
    },
    {
      "cell_type": "code",
      "source": [
        "def SRCNN_predict(input_data , channel_model , num_pilots , SNR):\n",
        "    srcnn_model = SRCNN_model()\n",
        "    #srcnn_model.load_weights(\"SRCNN_\" + channel_model +\"_\"+ str(num_pilots) + \"_\"  + str(SNR) + \".h5\")\n",
        "    srcnn_model.load_weights('/content/drive/MyDrive/com_project_output/SRCNN_check.h5')\n",
        "    predicted  = srcnn_model.predict(input_data)\n",
        "    return predicted"
      ],
      "metadata": {
        "id": "zX0b0OEefE5I"
      },
      "execution_count": 28,
      "outputs": []
    },
    {
      "cell_type": "markdown",
      "source": [
        "### model architecture for denoising convolutional neural network"
      ],
      "metadata": {
        "id": "9Bb84LtEmRJ6"
      }
    },
    {
      "cell_type": "code",
      "source": [
        "def DNCNN_model ():\n",
        "\n",
        "    inpt = Input(shape=(None,None,1))\n",
        "    # 1st layer, Conv+relu\n",
        "    x = Conv2D(filters=64, kernel_size=(3,3), strides=(1,1), padding='same')(inpt)\n",
        "    x = Activation('relu')(x)\n",
        "    # 18 layers, Conv+BN+relu\n",
        "    for i in range(18):\n",
        "        x = Conv2D(filters=64, kernel_size=(3,3), strides=(1,1), padding='same')(x)\n",
        "        x = BatchNormalization(axis=-1, epsilon=1e-3)(x)\n",
        "        x = Activation('relu')(x)\n",
        "    # last layer, Conv\n",
        "    x = Conv2D(filters=1, kernel_size=(3,3), strides=(1,1), padding='same')(x)\n",
        "    x = Subtract()([inpt, x])   # input - noise\n",
        "    model = Model(inputs=inpt, outputs=x)\n",
        "    adam = Adam(lr=0.001, beta_1=0.9, beta_2=0.999, epsilon=1e-8)\n",
        "    model.compile(optimizer=adam, loss='mean_squared_error', metrics=['mean_squared_error'])\n",
        "    return model"
      ],
      "metadata": {
        "id": "rFUBtQbdfI2m"
      },
      "execution_count": 19,
      "outputs": []
    },
    {
      "cell_type": "markdown",
      "source": [
        "### DNCNN train function"
      ],
      "metadata": {
        "id": "9VFypVqwmnqz"
      }
    },
    {
      "cell_type": "code",
      "source": [
        "def DNCNN_train(train_data ,train_label, val_data , val_label, channel_model , num_pilots , SNR ):\n",
        "\n",
        "  dncnn_model = DNCNN_model()\n",
        "  print(dncnn_model.summary())\n",
        "\n",
        "  checkpoint = ModelCheckpoint(\"DNCNN_check.h5\", monitor='val_loss', verbose=1, save_best_only=True,\n",
        "                               save_weights_only=False, mode='min')\n",
        "  callbacks_list = [checkpoint]\n",
        "\n",
        "  dncnn_model.fit(train_data, train_label, batch_size=128, validation_data=(val_data, val_label),\n",
        "                  callbacks=callbacks_list, shuffle=True, epochs= 5 , verbose=0)\n",
        "  dncnn_model.save_weights(\"DNCNN_\" + channel_model +\"_\"+ str(num_pilots) + \"_\"  + str(SNR) + \".h5\")"
      ],
      "metadata": {
        "id": "lsT5P18QfKIw"
      },
      "execution_count": 20,
      "outputs": []
    },
    {
      "cell_type": "markdown",
      "source": [
        "### DNCNN predict function"
      ],
      "metadata": {
        "id": "irffLRvomxWQ"
      }
    },
    {
      "cell_type": "code",
      "source": [
        "def DNCNN_predict(input_data, channel_model , num_pilots , SNR):\n",
        "  dncnn_model = DNCNN_model()\n",
        "  dncnn_model.load_weights(\"DNCNN_\" + channel_model +\"_\"+ str(num_pilots) + \"_\"  + str(SNR) + \".h5\")\n",
        "  predicted  = dncnn_model.predict(input_data)\n",
        "  return predicted"
      ],
      "metadata": {
        "id": "87PncQ0ufP_C"
      },
      "execution_count": 21,
      "outputs": []
    },
    {
      "cell_type": "markdown",
      "source": [
        "### initializing SNR, Number of pilot, Channel_model"
      ],
      "metadata": {
        "id": "Uot_4iEmm3Wb"
      }
    },
    {
      "cell_type": "code",
      "source": [
        "SNR = 22\n",
        "Number_of_pilots = 48\n",
        "channel_model='VehA'\n",
        "num_pilots=48"
      ],
      "metadata": {
        "id": "I4RztCcWhMlI"
      },
      "execution_count": 22,
      "outputs": []
    },
    {
      "cell_type": "markdown",
      "source": [
        "### spliting the data set into 90% train dataset and 10% validation dataset"
      ],
      "metadata": {
        "id": "cWZK7u9FnCZN"
      }
    },
    {
      "cell_type": "code",
      "source": [
        "interp_noisy = interpolation(noisy_input , SNR , Number_of_pilots , 'rbf')\n",
        "\n",
        "perfect_image = np.zeros((len(perfect),72,14,2))\n",
        "perfect_image[:,:,:,0] = np.real(perfect)\n",
        "perfect_image[:,:,:,1] = np.imag(perfect)\n",
        "perfect_image = np.concatenate((perfect_image[:,:,:,0], perfect_image[:,:,:,1]), axis=0).reshape(2*len(perfect), 72, 14, 1)\n",
        "\n",
        "\n",
        "idx_random = np.random.rand(len(perfect_image)) < (1/9)  # uses 32000 from 36000 as training and the rest as validation\n",
        "train_data, train_label = interp_noisy[idx_random,:,:,:] , perfect_image[idx_random,:,:,:]\n",
        "val_data, val_label = interp_noisy[~idx_random,:,:,:] , perfect_image[~idx_random,:,:,:]\n",
        "\n"
      ],
      "metadata": {
        "id": "98-pf4OUginK"
      },
      "execution_count": 36,
      "outputs": []
    },
    {
      "cell_type": "markdown",
      "source": [
        "### Training CNN dataset"
      ],
      "metadata": {
        "id": "ocEb3yOJnOOM"
      }
    },
    {
      "cell_type": "code",
      "source": [
        "SRCNN_train(train_data ,train_label, val_data , val_label , channel_model , Number_of_pilots , SNR )"
      ],
      "metadata": {
        "id": "UZRh4GB4jDDQ",
        "colab": {
          "base_uri": "https://localhost:8080/",
          "height": 0
        },
        "outputId": "868af8dd-ff5f-46d8-a0bc-e385d7498525"
      },
      "execution_count": 45,
      "outputs": [
        {
          "output_type": "stream",
          "name": "stderr",
          "text": [
            "WARNING:absl:`lr` is deprecated in Keras optimizer, please use `learning_rate` or use the legacy optimizer, e.g.,tf.keras.optimizers.legacy.Adam.\n"
          ]
        },
        {
          "output_type": "stream",
          "name": "stdout",
          "text": [
            "Model: \"model_4\"\n",
            "_________________________________________________________________\n",
            " Layer (type)                Output Shape              Param #   \n",
            "=================================================================\n",
            " input_5 (InputLayer)        [(None, 72, 14, 1)]       0         \n",
            "                                                                 \n",
            " conv2d_12 (Conv2D)          (None, 72, 14, 64)        5248      \n",
            "                                                                 \n",
            " conv2d_13 (Conv2D)          (None, 72, 14, 32)        2080      \n",
            "                                                                 \n",
            " conv2d_14 (Conv2D)          (None, 72, 14, 1)         801       \n",
            "                                                                 \n",
            "=================================================================\n",
            "Total params: 8129 (31.75 KB)\n",
            "Trainable params: 8129 (31.75 KB)\n",
            "Non-trainable params: 0 (0.00 Byte)\n",
            "_________________________________________________________________\n",
            "None\n",
            "\n",
            "Epoch 1: val_loss improved from inf to 0.00949, saving model to SRCNN_check.h5\n"
          ]
        },
        {
          "output_type": "stream",
          "name": "stderr",
          "text": [
            "/usr/local/lib/python3.10/dist-packages/keras/src/engine/training.py:3103: UserWarning: You are saving your model as an HDF5 file via `model.save()`. This file format is considered legacy. We recommend using instead the native Keras format, e.g. `model.save('my_model.keras')`.\n",
            "  saving_api.save_model(\n"
          ]
        },
        {
          "output_type": "stream",
          "name": "stdout",
          "text": [
            "\n",
            "Epoch 2: val_loss improved from 0.00949 to 0.00525, saving model to SRCNN_check.h5\n",
            "\n",
            "Epoch 3: val_loss improved from 0.00525 to 0.00416, saving model to SRCNN_check.h5\n",
            "\n",
            "Epoch 4: val_loss improved from 0.00416 to 0.00366, saving model to SRCNN_check.h5\n",
            "\n",
            "Epoch 5: val_loss improved from 0.00366 to 0.00329, saving model to SRCNN_check.h5\n",
            "\n",
            "Epoch 6: val_loss improved from 0.00329 to 0.00303, saving model to SRCNN_check.h5\n",
            "\n",
            "Epoch 7: val_loss improved from 0.00303 to 0.00284, saving model to SRCNN_check.h5\n",
            "\n",
            "Epoch 8: val_loss improved from 0.00284 to 0.00270, saving model to SRCNN_check.h5\n",
            "\n",
            "Epoch 9: val_loss improved from 0.00270 to 0.00255, saving model to SRCNN_check.h5\n",
            "\n",
            "Epoch 10: val_loss improved from 0.00255 to 0.00249, saving model to SRCNN_check.h5\n",
            "\n",
            "Epoch 11: val_loss improved from 0.00249 to 0.00235, saving model to SRCNN_check.h5\n",
            "\n",
            "Epoch 12: val_loss improved from 0.00235 to 0.00229, saving model to SRCNN_check.h5\n",
            "\n",
            "Epoch 13: val_loss improved from 0.00229 to 0.00225, saving model to SRCNN_check.h5\n",
            "\n",
            "Epoch 14: val_loss improved from 0.00225 to 0.00220, saving model to SRCNN_check.h5\n",
            "\n",
            "Epoch 15: val_loss improved from 0.00220 to 0.00215, saving model to SRCNN_check.h5\n",
            "\n",
            "Epoch 16: val_loss improved from 0.00215 to 0.00208, saving model to SRCNN_check.h5\n",
            "\n",
            "Epoch 17: val_loss improved from 0.00208 to 0.00206, saving model to SRCNN_check.h5\n",
            "\n",
            "Epoch 18: val_loss did not improve from 0.00206\n",
            "\n",
            "Epoch 19: val_loss improved from 0.00206 to 0.00199, saving model to SRCNN_check.h5\n",
            "\n",
            "Epoch 20: val_loss improved from 0.00199 to 0.00196, saving model to SRCNN_check.h5\n"
          ]
        }
      ]
    },
    {
      "cell_type": "markdown",
      "source": [
        "### shape of the input data for prediction"
      ],
      "metadata": {
        "id": "kSGl5YUZnWTd"
      }
    },
    {
      "cell_type": "code",
      "source": [
        "print(val_data.shape)\n",
        "print(train_data.shape)\n",
        "print(val_label.shape)\n",
        "print(train_label.shape)"
      ],
      "metadata": {
        "colab": {
          "base_uri": "https://localhost:8080/",
          "height": 0
        },
        "id": "fZvZqx3D8vtZ",
        "outputId": "2debc096-75c3-4982-f4cd-3fa2ad049881"
      },
      "execution_count": 25,
      "outputs": [
        {
          "output_type": "stream",
          "name": "stdout",
          "text": [
            "(8788, 72, 14, 1)\n",
            "(71212, 72, 14, 1)\n",
            "(8788, 72, 14, 1)\n",
            "(71212, 72, 14, 1)\n"
          ]
        }
      ]
    },
    {
      "cell_type": "markdown",
      "source": [
        "### prediction for CNN model"
      ],
      "metadata": {
        "id": "egdZSxBknf5w"
      }
    },
    {
      "cell_type": "code",
      "source": [
        "srcnn_pred_train = SRCNN_predict(train_data, channel_model , num_pilots , SNR)\n",
        "#srcnn_pred_validation = SRCNN_predict(val_data, channel_model , num_pilots , SNR)"
      ],
      "metadata": {
        "id": "VgRUnLrpjF82",
        "colab": {
          "base_uri": "https://localhost:8080/",
          "height": 0
        },
        "outputId": "f0d45499-2183-47bf-9100-6029563aba25"
      },
      "execution_count": 37,
      "outputs": [
        {
          "output_type": "stream",
          "name": "stderr",
          "text": [
            "WARNING:absl:`lr` is deprecated in Keras optimizer, please use `learning_rate` or use the legacy optimizer, e.g.,tf.keras.optimizers.legacy.Adam.\n"
          ]
        },
        {
          "output_type": "stream",
          "name": "stdout",
          "text": [
            "280/280 [==============================] - 14s 51ms/step\n"
          ]
        }
      ]
    },
    {
      "cell_type": "markdown",
      "source": [
        "### converting the 4d array into pandas dataframe"
      ],
      "metadata": {
        "id": "qP_1PUgzoAMU"
      }
    },
    {
      "cell_type": "code",
      "source": [
        "import pandas as pd\n",
        "mesh = pd.DataFrame(np.column_stack(list(map(np.ravel, np.meshgrid(*map(np.arange, srcnn_pred_validation.shape), indexing=\"ij\"))) + [srcnn_pred_validation.ravel()]),\n",
        "                   columns=[\"mode\", \"x\", \"y\", \"z\", \"val\"])\n",
        "\n",
        "val_pred_data_df = pd.DataFrame([index + (x,) for index, x in np.ndenumerate(srcnn_pred_validation)], columns=[\"mode\", \"x\", \"y\", \"z\", \"val\"])\n",
        "print(val_pred_data_df)"
      ],
      "metadata": {
        "colab": {
          "base_uri": "https://localhost:8080/",
          "height": 0
        },
        "id": "zLfZt9N0WMQs",
        "outputId": "cc354611-0dcc-4fcf-9017-644c2343894d"
      },
      "execution_count": 30,
      "outputs": [
        {
          "output_type": "stream",
          "name": "stdout",
          "text": [
            "         mode   x   y  z       val\n",
            "0           0   0   0  0  0.081844\n",
            "1           0   0   1  0  0.080660\n",
            "2           0   0   2  0  0.073292\n",
            "3           0   0   3  0  0.061574\n",
            "4           0   0   4  0  0.082314\n",
            "...       ...  ..  .. ..       ...\n",
            "8858299  8787  71   9  0 -0.830523\n",
            "8858300  8787  71  10  0 -0.827849\n",
            "8858301  8787  71  11  0 -0.777215\n",
            "8858302  8787  71  12  0 -0.714553\n",
            "8858303  8787  71  13  0 -0.670813\n",
            "\n",
            "[8858304 rows x 5 columns]\n"
          ]
        }
      ]
    },
    {
      "cell_type": "code",
      "source": [
        "import pandas as pd\n",
        "mesh = pd.DataFrame(np.column_stack(list(map(np.ravel, np.meshgrid(*map(np.arange, val_label.shape), indexing=\"ij\"))) + [val_label.ravel()]),\n",
        "                   columns=[\"mode\", \"x\", \"y\", \"z\", \"val\"])\n",
        "\n",
        "val_label_df = pd.DataFrame([index + (x,) for index, x in np.ndenumerate(val_label)], columns=[\"mode\", \"x\", \"y\", \"z\", \"val\"])\n",
        "print(val_label_df)"
      ],
      "metadata": {
        "colab": {
          "base_uri": "https://localhost:8080/",
          "height": 0
        },
        "id": "hHUn7L77bWq1",
        "outputId": "ad72f63f-865a-46c0-c952-5a0c05dc2e01"
      },
      "execution_count": 31,
      "outputs": [
        {
          "output_type": "stream",
          "name": "stdout",
          "text": [
            "         mode   x   y  z       val\n",
            "0           0   0   0  0  0.178767\n",
            "1           0   0   1  0  0.158222\n",
            "2           0   0   2  0  0.138010\n",
            "3           0   0   3  0  0.118092\n",
            "4           0   0   4  0  0.098504\n",
            "...       ...  ..  .. ..       ...\n",
            "8858299  8787  71   9  0 -0.822535\n",
            "8858300  8787  71  10  0 -0.801185\n",
            "8858301  8787  71  11  0 -0.778274\n",
            "8858302  8787  71  12  0 -0.753831\n",
            "8858303  8787  71  13  0 -0.727891\n",
            "\n",
            "[8858304 rows x 5 columns]\n"
          ]
        }
      ]
    },
    {
      "cell_type": "code",
      "source": [
        "import pandas as pd\n",
        "mesh = pd.DataFrame(np.column_stack(list(map(np.ravel, np.meshgrid(*map(np.arange, train_label.shape), indexing=\"ij\"))) + [train_label.ravel()]),\n",
        "                   columns=[\"mode\", \"x\", \"y\", \"z\", \"val\"])\n",
        "\n",
        "train_label_df = pd.DataFrame([index + (x,) for index, x in np.ndenumerate(train_label)], columns=[\"mode\", \"x\", \"y\", \"z\", \"val\"])\n",
        "print(train_label_df)"
      ],
      "metadata": {
        "colab": {
          "base_uri": "https://localhost:8080/",
          "height": 0
        },
        "id": "6aesj4oMee4p",
        "outputId": "8989404c-953a-4614-807d-fb31ca8f9fa3"
      },
      "execution_count": 38,
      "outputs": [
        {
          "output_type": "stream",
          "name": "stdout",
          "text": [
            "         mode   x   y  z       val\n",
            "0           0   0   0  0  0.733608\n",
            "1           0   0   1  0  0.721786\n",
            "2           0   0   2  0  0.709077\n",
            "3           0   0   3  0  0.695456\n",
            "4           0   0   4  0  0.680944\n",
            "...       ...  ..  .. ..       ...\n",
            "9000427  8928  71   9  0 -1.410350\n",
            "9000428  8928  71  10  0 -1.411438\n",
            "9000429  8928  71  11  0 -1.411081\n",
            "9000430  8928  71  12  0 -1.409281\n",
            "9000431  8928  71  13  0 -1.406039\n",
            "\n",
            "[9000432 rows x 5 columns]\n"
          ]
        }
      ]
    },
    {
      "cell_type": "code",
      "source": [
        "import pandas as pd\n",
        "mesh = pd.DataFrame(np.column_stack(list(map(np.ravel, np.meshgrid(*map(np.arange, srcnn_pred_train.shape), indexing=\"ij\"))) + [srcnn_pred_train.ravel()]),\n",
        "                   columns=[\"mode\", \"x\", \"y\", \"z\", \"val\"])\n",
        "\n",
        "train_pred_data_df = pd.DataFrame([index + (x,) for index, x in np.ndenumerate(srcnn_pred_train)], columns=[\"mode\", \"x\", \"y\", \"z\", \"val\"])\n",
        "print(train_pred_data_df)"
      ],
      "metadata": {
        "colab": {
          "base_uri": "https://localhost:8080/",
          "height": 0
        },
        "id": "Fx--im82ew2v",
        "outputId": "bee7418f-3cad-4742-d3f3-2883f2dd0722"
      },
      "execution_count": 39,
      "outputs": [
        {
          "output_type": "stream",
          "name": "stdout",
          "text": [
            "         mode   x   y  z       val\n",
            "0           0   0   0  0  0.772469\n",
            "1           0   0   1  0  0.807863\n",
            "2           0   0   2  0  0.791140\n",
            "3           0   0   3  0  0.741748\n",
            "4           0   0   4  0  0.804725\n",
            "...       ...  ..  .. ..       ...\n",
            "9000427  8928  71   9  0 -1.348574\n",
            "9000428  8928  71  10  0 -1.369928\n",
            "9000429  8928  71  11  0 -1.349662\n",
            "9000430  8928  71  12  0 -1.222855\n",
            "9000431  8928  71  13  0 -1.142452\n",
            "\n",
            "[9000432 rows x 5 columns]\n"
          ]
        }
      ]
    },
    {
      "cell_type": "markdown",
      "source": [
        "### Calculating the root mean square error (RMSE) for validation"
      ],
      "metadata": {
        "id": "DDIcpq8CcdHG"
      }
    },
    {
      "cell_type": "code",
      "source": [
        "y_actual=val_label_df['val']\n",
        "y_hat=val_pred_data_df['val']"
      ],
      "metadata": {
        "id": "a4jJebTKb0qA"
      },
      "execution_count": 32,
      "outputs": []
    },
    {
      "cell_type": "code",
      "source": [
        "MSE = np.square(np.subtract(y_actual,y_hat)).mean()\n",
        "\n",
        "RMSE = math.sqrt(MSE)\n",
        "\n",
        "print(RMSE)"
      ],
      "metadata": {
        "colab": {
          "base_uri": "https://localhost:8080/",
          "height": 0
        },
        "id": "taSGeewtcD0B",
        "outputId": "7b82088d-ef2e-49a9-f73c-ef98be24207c"
      },
      "execution_count": 33,
      "outputs": [
        {
          "output_type": "stream",
          "name": "stdout",
          "text": [
            "0.044470220616021336\n"
          ]
        }
      ]
    },
    {
      "cell_type": "markdown",
      "source": [
        "### calculating the min absolute percentage error(MAPE) for validation"
      ],
      "metadata": {
        "id": "VICTt9zGcoEP"
      }
    },
    {
      "cell_type": "code",
      "source": [
        "mape = np.mean(np.abs((y_actual - y_hat)/y_actual))*100\n",
        "print(mape)"
      ],
      "metadata": {
        "colab": {
          "base_uri": "https://localhost:8080/",
          "height": 0
        },
        "id": "6QRq07I_cTU1",
        "outputId": "efcd3b4c-c26c-4a93-dc24-0ca23ae6d641"
      },
      "execution_count": 34,
      "outputs": [
        {
          "output_type": "stream",
          "name": "stdout",
          "text": [
            "61.68636471650335\n"
          ]
        }
      ]
    },
    {
      "cell_type": "code",
      "source": [
        "print(psnr(y_hat,y_actual))"
      ],
      "metadata": {
        "colab": {
          "base_uri": "https://localhost:8080/",
          "height": 0
        },
        "id": "lJ7Vbzy3dNVL",
        "outputId": "e5d49a21-25e3-4a5c-c6cf-4be88336db4b"
      },
      "execution_count": 35,
      "outputs": [
        {
          "output_type": "stream",
          "name": "stdout",
          "text": [
            "75.16941792904018\n"
          ]
        }
      ]
    },
    {
      "cell_type": "markdown",
      "source": [
        "### Calculating the root mean square error (RMSE) for validation"
      ],
      "metadata": {
        "id": "YjTLa5Ijf0OT"
      }
    },
    {
      "cell_type": "code",
      "source": [
        "y_actual=train_label_df['val']\n",
        "y_hat=train_pred_data_df['val']"
      ],
      "metadata": {
        "id": "_jlWAK4Qfd4V"
      },
      "execution_count": 40,
      "outputs": []
    },
    {
      "cell_type": "code",
      "source": [
        "MSE = np.square(np.subtract(y_actual,y_hat)).mean()\n",
        "\n",
        "RMSE = math.sqrt(MSE)\n",
        "\n",
        "print(RMSE)"
      ],
      "metadata": {
        "colab": {
          "base_uri": "https://localhost:8080/",
          "height": 0
        },
        "id": "aejxUJfOfp-0",
        "outputId": "361fc7c5-780c-4b81-94c4-4a3a5f6e5f11"
      },
      "execution_count": 41,
      "outputs": [
        {
          "output_type": "stream",
          "name": "stdout",
          "text": [
            "0.04455599378509171\n"
          ]
        }
      ]
    },
    {
      "cell_type": "markdown",
      "source": [
        "### calculating the min absolute percentage error(MAPE) for validation"
      ],
      "metadata": {
        "id": "jfT5ahOWf4R0"
      }
    },
    {
      "cell_type": "code",
      "source": [
        "mape = np.mean(np.abs((y_actual - y_hat)/y_actual))*100\n",
        "print(mape)"
      ],
      "metadata": {
        "colab": {
          "base_uri": "https://localhost:8080/",
          "height": 0
        },
        "id": "ViUyFtgJfs61",
        "outputId": "92cc289b-5d26-46f8-e68b-b626ce339a45"
      },
      "execution_count": 42,
      "outputs": [
        {
          "output_type": "stream",
          "name": "stdout",
          "text": [
            "63.66284361112869\n"
          ]
        }
      ]
    },
    {
      "cell_type": "markdown",
      "source": [
        "### ploting the whole dataset in matplotlib"
      ],
      "metadata": {
        "id": "4L7zMk1JoIO7"
      }
    },
    {
      "cell_type": "code",
      "source": [
        "import matplotlib.pyplot as plt\n"
      ],
      "metadata": {
        "id": "_hWMwoLjRwF9"
      },
      "execution_count": null,
      "outputs": []
    },
    {
      "cell_type": "code",
      "source": [
        "fig = plt.figure()\n",
        "ax = fig.add_subplot(111, projection='3d')\n",
        "x = noisy_input[:, 0]\n",
        "y = noisy_input[:, 1]\n",
        "z = noisy_input[:, 2]\n",
        "ax.scatter(x, y, z, c=z)\n",
        "\n",
        "plt.show()"
      ],
      "metadata": {
        "colab": {
          "base_uri": "https://localhost:8080/",
          "height": 621
        },
        "id": "uf-fSBN2Rkg0",
        "outputId": "63e6bfde-678f-4d49-94ce-86ac3de8e344"
      },
      "execution_count": null,
      "outputs": [
        {
          "output_type": "stream",
          "name": "stderr",
          "text": [
            "/usr/local/lib/python3.10/dist-packages/matplotlib/axes/_axes.py:4411: ComplexWarning: Casting complex values to real discards the imaginary part\n",
            "  c = np.asanyarray(c, dtype=float)\n",
            "/usr/local/lib/python3.10/dist-packages/matplotlib/collections.py:192: ComplexWarning: Casting complex values to real discards the imaginary part\n",
            "  offsets = np.asanyarray(offsets, float)\n",
            "/usr/local/lib/python3.10/dist-packages/matplotlib/cbook/__init__.py:1335: ComplexWarning: Casting complex values to real discards the imaginary part\n",
            "  return np.asarray(x, float)\n",
            "/usr/local/lib/python3.10/dist-packages/matplotlib/collections.py:551: ComplexWarning: Casting complex values to real discards the imaginary part\n",
            "  (np.asanyarray(self.convert_xunits(offsets[:, 0]), float),\n",
            "/usr/local/lib/python3.10/dist-packages/matplotlib/collections.py:552: ComplexWarning: Casting complex values to real discards the imaginary part\n",
            "  np.asanyarray(self.convert_yunits(offsets[:, 1]), float)))\n",
            "/usr/local/lib/python3.10/dist-packages/matplotlib/colors.py:389: ComplexWarning: Casting complex values to real discards the imaginary part\n",
            "  c = tuple(map(float, c))\n"
          ]
        },
        {
          "output_type": "display_data",
          "data": {
            "text/plain": [
              "<Figure size 640x480 with 1 Axes>"
            ],
            "image/png": "[encoded data removed]"
          },
          "metadata": {}
        }
      ]
    },
    {
      "cell_type": "markdown",
      "source": [
        "### DNCNN train, validation and converting it to pandas dataframe"
      ],
      "metadata": {
        "id": "1d2jgHu5qQXV"
      }
    },
    {
      "cell_type": "code",
      "source": [
        "DNCNN_train(train_data ,train_label, val_data , val_label , channel_model , Number_of_pilots , SNR )"
      ],
      "metadata": {
        "id": "XTKzr3OFvlY8"
      },
      "execution_count": null,
      "outputs": []
    },
    {
      "cell_type": "code",
      "source": [
        "DNcnn_pred_train = DNCNN_predict(train_data, channel_model , num_pilots , SNR)\n",
        "DNcnn_pred_validation = DNCNN_predict(val_data, channel_model , num_pilots , SNR)"
      ],
      "metadata": {
        "id": "SQYbUsiiv37S"
      },
      "execution_count": null,
      "outputs": []
    },
    {
      "cell_type": "code",
      "source": [
        "mesh = pd.DataFrame(np.column_stack(list(map(np.ravel, np.meshgrid(*map(np.arange, train_data.shape), indexing=\"ij\"))) + [train_data.ravel()]),\n",
        "                   columns=[\"mode\", \"x\", \"y\", \"z\", \"val\"])\n",
        "\n",
        "train_data_df = pd.DataFrame([index + (x,) for index, x in np.ndenumerate(train_data)], columns=[\"mode\", \"x\", \"y\", \"z\", \"val\"])\n",
        "print(train_data_df)"
      ],
      "metadata": {
        "id": "B3CBIBfwX-GK"
      },
      "execution_count": null,
      "outputs": []
    },
    {
      "cell_type": "code",
      "source": [
        "train_data_path='/content/drive/MyDrive/com_project_output/train_data.xlsx'\n",
        "df=pd.read_csv(train_data_path)"
      ],
      "metadata": {
        "id": "TJxWejA-B4Xh"
      },
      "execution_count": null,
      "outputs": []
    },
    {
      "cell_type": "code",
      "source": [
        "df"
      ],
      "metadata": {
        "colab": {
          "base_uri": "https://localhost:8080/",
          "height": 424
        },
        "id": "zsvTsg-dCPnT",
        "outputId": "9d108e46-d6ce-41a6-8f0b-89522a99f6d1"
      },
      "execution_count": null,
      "outputs": [
        {
          "output_type": "execute_result",
          "data": {
            "text/plain": [
              "         Unnamed: 0  mode   x   y  z       val\n",
              "0                 0     0   0   0  0 -0.175454\n",
              "1                 1     0   0   1  0 -0.146027\n",
              "2                 2     0   0   2  0 -0.149835\n",
              "3                 3     0   0   3  0 -0.151047\n",
              "4                 4     0   0   4  0 -0.170183\n",
              "...             ...   ...  ..  .. ..       ...\n",
              "9045787     9045787  8973  71   9  0  0.181830\n",
              "9045788     9045788  8973  71  10  0  0.201224\n",
              "9045789     9045789  8973  71  11  0  0.161550\n",
              "9045790     9045790  8973  71  12  0  0.133045\n",
              "9045791     9045791  8973  71  13  0  0.137086\n",
              "\n",
              "[9045792 rows x 6 columns]"
            ],
            "text/html": [
              "\n",
              "  <div id=\"df-f5c80357-b340-48ca-9ab2-446079d17581\" class=\"colab-df-container\">\n",
              "    <div>\n",
              "<style scoped>\n",
              "    .dataframe tbody tr th:only-of-type {\n",
              "        vertical-align: middle;\n",
              "    }\n",
              "\n",
              "    .dataframe tbody tr th {\n",
              "        vertical-align: top;\n",
              "    }\n",
              "\n",
              "    .dataframe thead th {\n",
              "        text-align: right;\n",
              "    }\n",
              "</style>\n",
              "<table border=\"1\" class=\"dataframe\">\n",
              "  <thead>\n",
              "    <tr style=\"text-align: right;\">\n",
              "      <th></th>\n",
              "      <th>Unnamed: 0</th>\n",
              "      <th>mode</th>\n",
              "      <th>x</th>\n",
              "      <th>y</th>\n",
              "      <th>z</th>\n",
              "      <th>val</th>\n",
              "    </tr>\n",
              "  </thead>\n",
              "  <tbody>\n",
              "    <tr>\n",
              "      <th>0</th>\n",
              "      <td>0</td>\n",
              "      <td>0</td>\n",
              "      <td>0</td>\n",
              "      <td>0</td>\n",
              "      <td>0</td>\n",
              "      <td>-0.175454</td>\n",
              "    </tr>\n",
              "    <tr>\n",
              "      <th>1</th>\n",
              "      <td>1</td>\n",
              "      <td>0</td>\n",
              "      <td>0</td>\n",
              "      <td>1</td>\n",
              "      <td>0</td>\n",
              "      <td>-0.146027</td>\n",
              "    </tr>\n",
              "    <tr>\n",
              "      <th>2</th>\n",
              "      <td>2</td>\n",
              "      <td>0</td>\n",
              "      <td>0</td>\n",
              "      <td>2</td>\n",
              "      <td>0</td>\n",
              "      <td>-0.149835</td>\n",
              "    </tr>\n",
              "    <tr>\n",
              "      <th>3</th>\n",
              "      <td>3</td>\n",
              "      <td>0</td>\n",
              "      <td>0</td>\n",
              "      <td>3</td>\n",
              "      <td>0</td>\n",
              "      <td>-0.151047</td>\n",
              "    </tr>\n",
              "    <tr>\n",
              "      <th>4</th>\n",
              "      <td>4</td>\n",
              "      <td>0</td>\n",
              "      <td>0</td>\n",
              "      <td>4</td>\n",
              "      <td>0</td>\n",
              "      <td>-0.170183</td>\n",
              "    </tr>\n",
              "    <tr>\n",
              "      <th>...</th>\n",
              "      <td>...</td>\n",
              "      <td>...</td>\n",
              "      <td>...</td>\n",
              "      <td>...</td>\n",
              "      <td>...</td>\n",
              "      <td>...</td>\n",
              "    </tr>\n",
              "    <tr>\n",
              "      <th>9045787</th>\n",
              "      <td>9045787</td>\n",
              "      <td>8973</td>\n",
              "      <td>71</td>\n",
              "      <td>9</td>\n",
              "      <td>0</td>\n",
              "      <td>0.181830</td>\n",
              "    </tr>\n",
              "    <tr>\n",
              "      <th>9045788</th>\n",
              "      <td>9045788</td>\n",
              "      <td>8973</td>\n",
              "      <td>71</td>\n",
              "      <td>10</td>\n",
              "      <td>0</td>\n",
              "      <td>0.201224</td>\n",
              "    </tr>\n",
              "    <tr>\n",
              "      <th>9045789</th>\n",
              "      <td>9045789</td>\n",
              "      <td>8973</td>\n",
              "      <td>71</td>\n",
              "      <td>11</td>\n",
              "      <td>0</td>\n",
              "      <td>0.161550</td>\n",
              "    </tr>\n",
              "    <tr>\n",
              "      <th>9045790</th>\n",
              "      <td>9045790</td>\n",
              "      <td>8973</td>\n",
              "      <td>71</td>\n",
              "      <td>12</td>\n",
              "      <td>0</td>\n",
              "      <td>0.133045</td>\n",
              "    </tr>\n",
              "    <tr>\n",
              "      <th>9045791</th>\n",
              "      <td>9045791</td>\n",
              "      <td>8973</td>\n",
              "      <td>71</td>\n",
              "      <td>13</td>\n",
              "      <td>0</td>\n",
              "      <td>0.137086</td>\n",
              "    </tr>\n",
              "  </tbody>\n",
              "</table>\n",
              "<p>9045792 rows × 6 columns</p>\n",
              "</div>\n",
              "    <div class=\"colab-df-buttons\">\n",
              "\n",
              "  <div class=\"colab-df-container\">\n",
              "    <button class=\"colab-df-convert\" onclick=\"convertToInteractive('df-f5c80357-b340-48ca-9ab2-446079d17581')\"\n",
              "            title=\"Convert this dataframe to an interactive table.\"\n",
              "            style=\"display:none;\">\n",
              "\n",
              "  <svg xmlns=\"http://www.w3.org/2000/svg\" height=\"24px\" viewBox=\"0 -960 960 960\">\n",
              "    <path d=\"M120-120v-720h720v720H120Zm60-500h600v-160H180v160Zm220 220h160v-160H400v160Zm0 220h160v-160H400v160ZM180-400h160v-160H180v160Zm440 0h160v-160H620v160ZM180-180h160v-160H180v160Zm440 0h160v-160H620v160Z\"/>\n",
              "  </svg>\n",
              "    </button>\n",
              "\n",
              "  <style>\n",
              "    .colab-df-container {\n",
              "      display:flex;\n",
              "      gap: 12px;\n",
              "    }\n",
              "\n",
              "    .colab-df-convert {\n",
              "      background-color: #E8F0FE;\n",
              "      border: none;\n",
              "      border-radius: 50%;\n",
              "      cursor: pointer;\n",
              "      display: none;\n",
              "      fill: #1967D2;\n",
              "      height: 32px;\n",
              "      padding: 0 0 0 0;\n",
              "      width: 32px;\n",
              "    }\n",
              "\n",
              "    .colab-df-convert:hover {\n",
              "      background-color: #E2EBFA;\n",
              "      box-shadow: 0px 1px 2px rgba(60, 64, 67, 0.3), 0px 1px 3px 1px rgba(60, 64, 67, 0.15);\n",
              "      fill: #174EA6;\n",
              "    }\n",
              "\n",
              "    .colab-df-buttons div {\n",
              "      margin-bottom: 4px;\n",
              "    }\n",
              "\n",
              "    [theme=dark] .colab-df-convert {\n",
              "      background-color: #3B4455;\n",
              "      fill: #D2E3FC;\n",
              "    }\n",
              "\n",
              "    [theme=dark] .colab-df-convert:hover {\n",
              "      background-color: #434B5C;\n",
              "      box-shadow: 0px 1px 3px 1px rgba(0, 0, 0, 0.15);\n",
              "      filter: drop-shadow(0px 1px 2px rgba(0, 0, 0, 0.3));\n",
              "      fill: #FFFFFF;\n",
              "    }\n",
              "  </style>\n",
              "\n",
              "    <script>\n",
              "      const buttonEl =\n",
              "        document.querySelector('#df-f5c80357-b340-48ca-9ab2-446079d17581 button.colab-df-convert');\n",
              "      buttonEl.style.display =\n",
              "        google.colab.kernel.accessAllowed ? 'block' : 'none';\n",
              "\n",
              "      async function convertToInteractive(key) {\n",
              "        const element = document.querySelector('#df-f5c80357-b340-48ca-9ab2-446079d17581');\n",
              "        const dataTable =\n",
              "          await google.colab.kernel.invokeFunction('convertToInteractive',\n",
              "                                                    [key], {});\n",
              "        if (!dataTable) return;\n",
              "\n",
              "        const docLinkHtml = 'Like what you see? Visit the ' +\n",
              "          '<a target=\"_blank\" href=https://colab.research.google.com/notebooks/data_table.ipynb>data table notebook</a>'\n",
              "          + ' to learn more about interactive tables.';\n",
              "        element.innerHTML = '';\n",
              "        dataTable['output_type'] = 'display_data';\n",
              "        await google.colab.output.renderOutput(dataTable, element);\n",
              "        const docLink = document.createElement('div');\n",
              "        docLink.innerHTML = docLinkHtml;\n",
              "        element.appendChild(docLink);\n",
              "      }\n",
              "    </script>\n",
              "  </div>\n",
              "\n",
              "\n",
              "<div id=\"df-12667764-e0dc-4ae2-9f75-6b0edfe62785\">\n",
              "  <button class=\"colab-df-quickchart\" onclick=\"quickchart('df-12667764-e0dc-4ae2-9f75-6b0edfe62785')\"\n",
              "            title=\"Suggest charts\"\n",
              "            style=\"display:none;\">\n",
              "\n",
              "<svg xmlns=\"http://www.w3.org/2000/svg\" height=\"24px\"viewBox=\"0 0 24 24\"\n",
              "     width=\"24px\">\n",
              "    <g>\n",
              "        <path d=\"M19 3H5c-1.1 0-2 .9-2 2v14c0 1.1.9 2 2 2h14c1.1 0 2-.9 2-2V5c0-1.1-.9-2-2-2zM9 17H7v-7h2v7zm4 0h-2V7h2v10zm4 0h-2v-4h2v4z\"/>\n",
              "    </g>\n",
              "</svg>\n",
              "  </button>\n",
              "\n",
              "<style>\n",
              "  .colab-df-quickchart {\n",
              "      --bg-color: #E8F0FE;\n",
              "      --fill-color: #1967D2;\n",
              "      --hover-bg-color: #E2EBFA;\n",
              "      --hover-fill-color: #174EA6;\n",
              "      --disabled-fill-color: #AAA;\n",
              "      --disabled-bg-color: #DDD;\n",
              "  }\n",
              "\n",
              "  [theme=dark] .colab-df-quickchart {\n",
              "      --bg-color: #3B4455;\n",
              "      --fill-color: #D2E3FC;\n",
              "      --hover-bg-color: #434B5C;\n",
              "      --hover-fill-color: #FFFFFF;\n",
              "      --disabled-bg-color: #3B4455;\n",
              "      --disabled-fill-color: #666;\n",
              "  }\n",
              "\n",
              "  .colab-df-quickchart {\n",
              "    background-color: var(--bg-color);\n",
              "    border: none;\n",
              "    border-radius: 50%;\n",
              "    cursor: pointer;\n",
              "    display: none;\n",
              "    fill: var(--fill-color);\n",
              "    height: 32px;\n",
              "    padding: 0;\n",
              "    width: 32px;\n",
              "  }\n",
              "\n",
              "  .colab-df-quickchart:hover {\n",
              "    background-color: var(--hover-bg-color);\n",
              "    box-shadow: 0 1px 2px rgba(60, 64, 67, 0.3), 0 1px 3px 1px rgba(60, 64, 67, 0.15);\n",
              "    fill: var(--button-hover-fill-color);\n",
              "  }\n",
              "\n",
              "  .colab-df-quickchart-complete:disabled,\n",
              "  .colab-df-quickchart-complete:disabled:hover {\n",
              "    background-color: var(--disabled-bg-color);\n",
              "    fill: var(--disabled-fill-color);\n",
              "    box-shadow: none;\n",
              "  }\n",
              "\n",
              "  .colab-df-spinner {\n",
              "    border: 2px solid var(--fill-color);\n",
              "    border-color: transparent;\n",
              "    border-bottom-color: var(--fill-color);\n",
              "    animation:\n",
              "      spin 1s steps(1) infinite;\n",
              "  }\n",
              "\n",
              "  @keyframes spin {\n",
              "    0% {\n",
              "      border-color: transparent;\n",
              "      border-bottom-color: var(--fill-color);\n",
              "      border-left-color: var(--fill-color);\n",
              "    }\n",
              "    20% {\n",
              "      border-color: transparent;\n",
              "      border-left-color: var(--fill-color);\n",
              "      border-top-color: var(--fill-color);\n",
              "    }\n",
              "    30% {\n",
              "      border-color: transparent;\n",
              "      border-left-color: var(--fill-color);\n",
              "      border-top-color: var(--fill-color);\n",
              "      border-right-color: var(--fill-color);\n",
              "    }\n",
              "    40% {\n",
              "      border-color: transparent;\n",
              "      border-right-color: var(--fill-color);\n",
              "      border-top-color: var(--fill-color);\n",
              "    }\n",
              "    60% {\n",
              "      border-color: transparent;\n",
              "      border-right-color: var(--fill-color);\n",
              "    }\n",
              "    80% {\n",
              "      border-color: transparent;\n",
              "      border-right-color: var(--fill-color);\n",
              "      border-bottom-color: var(--fill-color);\n",
              "    }\n",
              "    90% {\n",
              "      border-color: transparent;\n",
              "      border-bottom-color: var(--fill-color);\n",
              "    }\n",
              "  }\n",
              "</style>\n",
              "\n",
              "  <script>\n",
              "    async function quickchart(key) {\n",
              "      const quickchartButtonEl =\n",
              "        document.querySelector('#' + key + ' button');\n",
              "      quickchartButtonEl.disabled = true;  // To prevent multiple clicks.\n",
              "      quickchartButtonEl.classList.add('colab-df-spinner');\n",
              "      try {\n",
              "        const charts = await google.colab.kernel.invokeFunction(\n",
              "            'suggestCharts', [key], {});\n",
              "      } catch (error) {\n",
              "        console.error('Error during call to suggestCharts:', error);\n",
              "      }\n",
              "      quickchartButtonEl.classList.remove('colab-df-spinner');\n",
              "      quickchartButtonEl.classList.add('colab-df-quickchart-complete');\n",
              "    }\n",
              "    (() => {\n",
              "      let quickchartButtonEl =\n",
              "        document.querySelector('#df-12667764-e0dc-4ae2-9f75-6b0edfe62785 button');\n",
              "      quickchartButtonEl.style.display =\n",
              "        google.colab.kernel.accessAllowed ? 'block' : 'none';\n",
              "    })();\n",
              "  </script>\n",
              "</div>\n",
              "    </div>\n",
              "  </div>\n"
            ]
          },
          "metadata": {},
          "execution_count": 51
        }
      ]
    },
    {
      "cell_type": "code",
      "source": [
        "import pandas as pd"
      ],
      "metadata": {
        "id": "WINL100wxKh5"
      },
      "execution_count": null,
      "outputs": []
    },
    {
      "cell_type": "code",
      "source": [
        "srcnn_pred_train_data_path='/content/drive/MyDrive/com_project_output/srcnn_pred_train.csv'\n",
        "train_pred_df=pd.read_csv(srcnn_pred_train_data_path)"
      ],
      "metadata": {
        "id": "_PFx9KCBw2rg"
      },
      "execution_count": null,
      "outputs": []
    },
    {
      "cell_type": "code",
      "source": [
        "print(train_pred_df)"
      ],
      "metadata": {
        "colab": {
          "base_uri": "https://localhost:8080/"
        },
        "id": "W-9cqhd3xRCQ",
        "outputId": "9fbb088c-776a-4c73-d323-f0e51fa05338"
      },
      "execution_count": null,
      "outputs": [
        {
          "output_type": "stream",
          "name": "stdout",
          "text": [
            "         Unnamed: 0  mode   x   y  z       val\n",
            "0                 0     0   0   0  0  0.772469\n",
            "1                 1     0   0   1  0  0.807863\n",
            "2                 2     0   0   2  0  0.791140\n",
            "3                 3     0   0   3  0  0.741748\n",
            "4                 4     0   0   4  0  0.804724\n",
            "...             ...   ...  ..  .. ..       ...\n",
            "9107275     9107275  9034  71   9  0 -1.534900\n",
            "9107276     9107276  9034  71  10  0 -1.551719\n",
            "9107277     9107277  9034  71  11  0 -1.473691\n",
            "9107278     9107278  9034  71  12  0 -1.348018\n",
            "9107279     9107279  9034  71  13  0 -1.222418\n",
            "\n",
            "[9107280 rows x 6 columns]\n"
          ]
        }
      ]
    },
    {
      "cell_type": "code",
      "source": [
        "val_data_path='/content/drive/MyDrive/com_project_output/val_data.csv'\n",
        "val_df=pd.read_csv(val_data_path)\n",
        "print(val_df)"
      ],
      "metadata": {
        "colab": {
          "base_uri": "https://localhost:8080/"
        },
        "id": "LwdLVM-gxbtm",
        "outputId": "19096168-0271-4880-e6dd-7844c3be51f9"
      },
      "execution_count": null,
      "outputs": [
        {
          "output_type": "stream",
          "name": "stdout",
          "text": [
            "         Unnamed: 0  mode   x   y  z       val\n",
            "0                 0     0   0   0  0  0.718846\n",
            "1                 1     0   0   1  0  0.726909\n",
            "2                 2     0   0   2  0  0.686918\n",
            "3                 3     0   0   3  0  0.629846\n",
            "4                 4     0   0   4  0  0.583760\n",
            "...             ...   ...  ..  .. ..       ...\n",
            "9029659     9029659  8957  71   9  0 -1.208934\n",
            "9029660     9029660  8957  71  10  0 -1.234805\n",
            "9029661     9029661  8957  71  11  0 -1.199754\n",
            "9029662     9029662  8957  71  12  0 -1.072215\n",
            "9029663     9029663  8957  71  13  0 -0.863861\n",
            "\n",
            "[9029664 rows x 6 columns]\n"
          ]
        }
      ]
    },
    {
      "cell_type": "code",
      "source": [
        "val_pred_data_path='/content/drive/MyDrive/com_project_output/srcnn_pred_validation.csv'\n",
        "val_pred_df=pd.read_csv(val_pred_data_path)\n",
        "print(val_pred_df)"
      ],
      "metadata": {
        "colab": {
          "base_uri": "https://localhost:8080/"
        },
        "id": "5bSiTOjKxtnh",
        "outputId": "988e5d00-c51f-476c-e558-11367218c963"
      },
      "execution_count": null,
      "outputs": [
        {
          "output_type": "stream",
          "name": "stdout",
          "text": [
            "         Unnamed: 0  mode   x   y  z       val\n",
            "0                 0     0   0   0  0  0.772469\n",
            "1                 1     0   0   1  0  0.807863\n",
            "2                 2     0   0   2  0  0.791140\n",
            "3                 3     0   0   3  0  0.741748\n",
            "4                 4     0   0   4  0  0.804724\n",
            "...             ...   ...  ..  .. ..       ...\n",
            "9029659     9029659  8957  71   9  0 -1.534900\n",
            "9029660     9029660  8957  71  10  0 -1.551719\n",
            "9029661     9029661  8957  71  11  0 -1.473691\n",
            "9029662     9029662  8957  71  12  0 -1.348018\n",
            "9029663     9029663  8957  71  13  0 -1.222418\n",
            "\n",
            "[9029664 rows x 6 columns]\n"
          ]
        }
      ]
    },
    {
      "cell_type": "code",
      "source": [
        "import matplotlib.pyplot as plt\n"
      ],
      "metadata": {
        "id": "FtDEFRfP1HnB"
      },
      "execution_count": null,
      "outputs": []
    },
    {
      "cell_type": "markdown",
      "source": [
        "### plotting the actual vs predicted data"
      ],
      "metadata": {
        "id": "hYaNELaipol3"
      }
    },
    {
      "cell_type": "code",
      "source": [
        "plt.figure(figsize=(10,10))\n",
        "plt.scatter(y_actual, y_hat, c='crimson')\n",
        "#plt.yscale('log')\n",
        "#plt.xscale('log')\n",
        "\n",
        "p1 = max(max(y_hat), max(y_actual))\n",
        "p2 = min(min(y_hat), min(y_actual))\n",
        "plt.plot([p1, p2], [p1, p2], 'b-')\n",
        "plt.xlabel('True Values', color='blue',fontsize=15)\n",
        "plt.ylabel('Predictions', color='red',fontsize=15)\n",
        "plt.axis('equal')\n",
        "plt.show()"
      ],
      "metadata": {
        "colab": {
          "base_uri": "https://localhost:8080/",
          "height": 856
        },
        "id": "6pe1oBrb0l6E",
        "outputId": "d8708c78-b0ff-43a9-cfa4-bb14fa3cf214"
      },
      "execution_count": null,
      "outputs": [
        {
          "output_type": "display_data",
          "data": {
            "text/plain": [
              "<Figure size 1000x1000 with 1 Axes>"
            ],
            "image/png": "[encoded data removed]"
          },
          "metadata": {}
        }
      ]
    },
    {
      "cell_type": "markdown",
      "source": [
        "### red indicates the auctual input validation data\n",
        "### blue indicates the predicted validation data"
      ],
      "metadata": {
        "id": "bbqzlQUfpXii"
      }
    },
    {
      "cell_type": "code",
      "source": [
        "plt.subplot(1,2,1)\n",
        "plt.plot(x,y_actual,color='red')\n",
        "plt.subplot(1,2,2)\n",
        "plt.plot(x,y_hat,color='blue')"
      ],
      "metadata": {
        "colab": {
          "base_uri": "https://localhost:8080/",
          "height": 465
        },
        "id": "xQSP54u87Q4U",
        "outputId": "d916f71b-06d3-4f7f-fd12-e969140e63f2"
      },
      "execution_count": null,
      "outputs": [
        {
          "output_type": "execute_result",
          "data": {
            "text/plain": [
              "[<matplotlib.lines.Line2D at 0x7c0ba3bf2e30>]"
            ]
          },
          "metadata": {},
          "execution_count": 46
        },
        {
          "output_type": "display_data",
          "data": {
            "text/plain": [
              "<Figure size 640x480 with 2 Axes>"
            ],
            "image/png": "[encoded data removed]"
          },
          "metadata": {}
        }
      ]
    }
  ]
}